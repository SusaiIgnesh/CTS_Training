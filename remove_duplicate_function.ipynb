{
  "nbformat": 4,
  "nbformat_minor": 0,
  "metadata": {
    "colab": {
      "name": "remove_duplicate_function",
      "provenance": [],
      "authorship_tag": "ABX9TyPVf6NHTSdwq90aE0gMqtCO",
      "include_colab_link": true
    },
    "kernelspec": {
      "name": "python3",
      "display_name": "Python 3"
    },
    "language_info": {
      "name": "python"
    }
  },
  "cells": [
    {
      "cell_type": "markdown",
      "metadata": {
        "id": "view-in-github",
        "colab_type": "text"
      },
      "source": [
        "<a href=\"https://colab.research.google.com/github/SusaiIgnesh/Readme/blob/main/remove_duplicate_function.ipynb\" target=\"_parent\"><img src=\"https://colab.research.google.com/assets/colab-badge.svg\" alt=\"Open In Colab\"/></a>"
      ]
    },
    {
      "cell_type": "code",
      "execution_count": 8,
      "metadata": {
        "colab": {
          "base_uri": "https://localhost:8080/"
        },
        "id": "y-FiW52Vm_B_",
        "outputId": "fc630d2d-5d80-4c30-af30-56652c7d4b49"
      },
      "outputs": [
        {
          "output_type": "stream",
          "name": "stdout",
          "text": [
            "[23, 34, 56, 45, 67, 78, 97]\n"
          ]
        }
      ],
      "source": [
        "# remove duplicate\n",
        "def remove(dup_1):\n",
        "    list_1 = []\n",
        "    for number in dup_1:\n",
        "        if number not in list_1:\n",
        "            list_1.append(number)\n",
        "    return list_1\n",
        "     \n",
        "dup_1 = [23,34,56,23,45,67,45,78,97,67,45]\n",
        "print(remove(dup_1))"
      ]
    },
    {
      "cell_type": "code",
      "source": [
        ""
      ],
      "metadata": {
        "id": "vVW507j0nWmp"
      },
      "execution_count": null,
      "outputs": []
    }
  ]
}