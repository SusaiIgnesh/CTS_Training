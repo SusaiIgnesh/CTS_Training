{
  "nbformat": 4,
  "nbformat_minor": 0,
  "metadata": {
    "colab": {
      "name": "Greaternum",
      "provenance": [],
      "authorship_tag": "ABX9TyOpGbaUwRTegoxu8Kt3UQko",
      "include_colab_link": true
    },
    "kernelspec": {
      "name": "python3",
      "display_name": "Python 3"
    },
    "language_info": {
      "name": "python"
    }
  },
  "cells": [
    {
      "cell_type": "markdown",
      "metadata": {
        "id": "view-in-github",
        "colab_type": "text"
      },
      "source": [
        "<a href=\"https://colab.research.google.com/github/SusaiIgnesh/Readme/blob/main/Greaternum.ipynb\" target=\"_parent\"><img src=\"https://colab.research.google.com/assets/colab-badge.svg\" alt=\"Open In Colab\"/></a>"
      ]
    },
    {
      "cell_type": "code",
      "execution_count": 1,
      "metadata": {
        "colab": {
          "base_uri": "https://localhost:8080/"
        },
        "id": "XhkwMdcmoas-",
        "outputId": "c425c82d-ba0a-4d20-faf9-980cbdadf642"
      },
      "outputs": [
        {
          "output_type": "stream",
          "name": "stdout",
          "text": [
            "Enter a number: 43\n",
            "Enter another number: 45\n",
            "The larger number is 45\n"
          ]
        }
      ],
      "source": [
        "def find_gr():\n",
        "  A1 = input('Enter a number: ')\n",
        "  A2 = input('Enter another number: ')\n",
        "  if A1 > A2:\n",
        "    print('The larger number is '+A1)\n",
        "  else:\n",
        "    print('The larger number is '+A2)\n",
        "\n",
        "find_gr()"
      ]
    },
    {
      "cell_type": "code",
      "source": [
        ""
      ],
      "metadata": {
        "id": "TWdOZkb0o4Pk"
      },
      "execution_count": null,
      "outputs": []
    }
  ]
}