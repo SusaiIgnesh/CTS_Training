{
  "nbformat": 4,
  "nbformat_minor": 0,
  "metadata": {
    "colab": {
      "provenance": [],
      "collapsed_sections": [],
      "authorship_tag": "ABX9TyN0XSub7XJmR84+hyOFvQDZ",
      "include_colab_link": true
    },
    "kernelspec": {
      "name": "python3",
      "display_name": "Python 3"
    },
    "language_info": {
      "name": "python"
    }
  },
  "cells": [
    {
      "cell_type": "markdown",
      "metadata": {
        "id": "view-in-github",
        "colab_type": "text"
      },
      "source": [
        "<a href=\"https://colab.research.google.com/github/SusaiIgnesh/CTS_Training/blob/main/list_and_tuple.ipynb\" target=\"_parent\"><img src=\"https://colab.research.google.com/assets/colab-badge.svg\" alt=\"Open In Colab\"/></a>"
      ]
    },
    {
      "cell_type": "code",
      "execution_count": 6,
      "metadata": {
        "colab": {
          "base_uri": "https://localhost:8080/"
        },
        "id": "yduwsuqKguWt",
        "outputId": "353cf269-66d3-4299-b368-24527e4735bf"
      },
      "outputs": [
        {
          "output_type": "stream",
          "name": "stdout",
          "text": [
            "Enter a number: 21\n",
            "Enter a number: 12\n",
            "Enter a number: 11\n",
            "Enter a number: 14\n",
            "Enter a number: 51\n",
            "Enter a number: 11\n",
            "Enter a number: 34\n",
            "Enter a number: 23\n",
            "Enter a number: 34\n",
            "Enter a number: 67\n",
            "\n",
            "And the arrangement is: \n",
            "\n",
            "Ascending Order:  [11.0, 11.0, 12.0, 14.0, 21.0, 23.0, 34.0, 34.0, 51.0, 67.0]\n",
            "Descending Order:  [67.0, 51.0, 34.0, 34.0, 23.0, 21.0, 14.0, 12.0, 11.0, 11.0]\n"
          ]
        }
      ],
      "source": [
        "#taking in the values, store them in a list and arrange them in Asc and Dsc \n",
        "#both ascending and descending problem\n",
        "\n",
        "def arr(n):\n",
        "    a = 0\n",
        "    b = []\n",
        "    while a<n:\n",
        "        c = float(input('Enter a number: '))\n",
        "        b.append(c)\n",
        "        a+=1\n",
        "    #For ascending order\n",
        "    asc = b\n",
        "    for x in range(len(b)):\n",
        "        for y in range(len(b) - x -1):\n",
        "            if asc[y]>asc[y+1]:\n",
        "                asc[y],asc[y+1] = asc[y+1],asc[y]\n",
        "    print('\\nAnd the arrangement is: \\n')\n",
        "    print('Ascending Order: ', asc)\n",
        "    #For descending order\n",
        "    desc = b\n",
        "    for x in range(len(b)):\n",
        "        for y in range(len(b) - x -1):\n",
        "            if desc[y]<desc[y+1]:\n",
        "                desc[y],desc[y+1] = desc[y+1],desc[y]\n",
        "   \n",
        "    \n",
        "    print('Descending Order: ',desc)\n",
        "arr(n)\n",
        "      "
      ]
    },
    {
      "cell_type": "code",
      "source": [
        "#Take in two values as a range,and print all the prime within that range\n",
        "def find_prime():\n",
        "  a = input('Enter the range: ')\n",
        "  a = a.split(',')\n",
        "  b =[]\n",
        "  c = []\n",
        "  for x in a:\n",
        "    b.append(int(x))\n",
        "  for y in range(b[0],b[1]):\n",
        "      if y>1:\n",
        "          for a in range(2,y):\n",
        "            if (y % a) == 0:\n",
        "              break\n",
        "          else:\n",
        "            c.append(y)\n",
        "  print(c)"
      ],
      "metadata": {
        "id": "zMOOuhfjhXhm"
      },
      "execution_count": 14,
      "outputs": []
    },
    {
      "cell_type": "code",
      "source": [],
      "metadata": {
        "id": "lGV1eDQChkQN"
      },
      "execution_count": null,
      "outputs": []
    }
  ]
}