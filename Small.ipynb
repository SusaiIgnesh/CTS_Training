{
  "nbformat": 4,
  "nbformat_minor": 0,
  "metadata": {
    "colab": {
      "name": "Small",
      "provenance": [],
      "authorship_tag": "ABX9TyPZjFN7cIKVk5oMaZIkNRRx",
      "include_colab_link": true
    },
    "kernelspec": {
      "name": "python3",
      "display_name": "Python 3"
    },
    "language_info": {
      "name": "python"
    }
  },
  "cells": [
    {
      "cell_type": "markdown",
      "metadata": {
        "id": "view-in-github",
        "colab_type": "text"
      },
      "source": [
        "<a href=\"https://colab.research.google.com/github/SusaiIgnesh/Readme/blob/main/Small.ipynb\" target=\"_parent\"><img src=\"https://colab.research.google.com/assets/colab-badge.svg\" alt=\"Open In Colab\"/></a>"
      ]
    },
    {
      "cell_type": "code",
      "execution_count": null,
      "metadata": {
        "id": "3cEIVk152EmL"
      },
      "outputs": [],
      "source": [
        "def find_smaller():\n",
        "  M1 = input('Enter a number: ')\n",
        "  M2 = input('Enter another number: ')\n",
        "  if M1 < M2:\n",
        "    print('The smaller number is '+M1)\n",
        "  else:\n",
        "    print('The smaller number is '+M2)\n",
        "\n",
        "find_smaller()"
      ]
    },
    {
      "cell_type": "code",
      "source": [
        ""
      ],
      "metadata": {
        "id": "81a38h5U2U36"
      },
      "execution_count": null,
      "outputs": []
    }
  ]
}