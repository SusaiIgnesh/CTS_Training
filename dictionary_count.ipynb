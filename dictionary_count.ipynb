{
  "nbformat": 4,
  "nbformat_minor": 0,
  "metadata": {
    "colab": {
      "name": "dictionary count",
      "provenance": [],
      "collapsed_sections": [],
      "authorship_tag": "ABX9TyPxK7t+ffMH4mJWnKQ7Sgl3",
      "include_colab_link": true
    },
    "kernelspec": {
      "name": "python3",
      "display_name": "Python 3"
    },
    "language_info": {
      "name": "python"
    }
  },
  "cells": [
    {
      "cell_type": "markdown",
      "metadata": {
        "id": "view-in-github",
        "colab_type": "text"
      },
      "source": [
        "<a href=\"https://colab.research.google.com/github/SusaiIgnesh/Readme/blob/main/dictionary_count.ipynb\" target=\"_parent\"><img src=\"https://colab.research.google.com/assets/colab-badge.svg\" alt=\"Open In Colab\"/></a>"
      ]
    },
    {
      "cell_type": "code",
      "source": [
        "string = input(\"enter String : \")\n",
        "words = []\n",
        "\n",
        "words = string.split()\n",
        "freq = [words.count(i) for i in words]\n",
        "\n",
        "Dict = dict(zip(words, freq))\n",
        "print(\"Dictionary Items  :  \",  Dict)"
      ],
      "metadata": {
        "colab": {
          "base_uri": "https://localhost:8080/"
        },
        "id": "pUwWnDPD0xZ0",
        "outputId": "9c938fea-4f63-4799-9af2-3a6219aa9204"
      },
      "execution_count": 3,
      "outputs": [
        {
          "output_type": "stream",
          "name": "stdout",
          "text": [
            "enter String : hello how are you\n",
            "Dictionary Items  :   {'hello': 1, 'how': 1, 'are': 1, 'you': 1}\n"
          ]
        }
      ]
    },
    {
      "cell_type": "code",
      "source": [
        ""
      ],
      "metadata": {
        "id": "A0CBZbFb6v13"
      },
      "execution_count": null,
      "outputs": []
    }
  ]
}