{
  "nbformat": 4,
  "nbformat_minor": 0,
  "metadata": {
    "colab": {
      "name": "basic",
      "provenance": [],
      "authorship_tag": "ABX9TyNsQ+2AhJGmglAs+7W1m8Ny",
      "include_colab_link": true
    },
    "kernelspec": {
      "name": "python3",
      "display_name": "Python 3"
    },
    "language_info": {
      "name": "python"
    }
  },
  "cells": [
    {
      "cell_type": "markdown",
      "metadata": {
        "id": "view-in-github",
        "colab_type": "text"
      },
      "source": [
        "<a href=\"https://colab.research.google.com/github/SusaiIgnesh/Readme/blob/main/basic.ipynb\" target=\"_parent\"><img src=\"https://colab.research.google.com/assets/colab-badge.svg\" alt=\"Open In Colab\"/></a>"
      ]
    },
    {
      "cell_type": "code",
      "execution_count": 1,
      "metadata": {
        "colab": {
          "base_uri": "https://localhost:8080/"
        },
        "id": "IZaKShw-i09P",
        "outputId": "c55ace76-47df-42a9-e787-ab751626ce59"
      },
      "outputs": [
        {
          "output_type": "stream",
          "name": "stdout",
          "text": [
            "Writing great_script.py\n"
          ]
        }
      ],
      "source": [
        "%%writefile great_script.py\n",
        "\n",
        "def find_gre():"
      ]
    },
    {
      "cell_type": "code",
      "source": [
        "%%writefile great_script.py\n",
        "\n",
        "def find_gre():\n",
        "   X1=input('enter a number:')\n",
        "   X2=input('enter another num:')\n",
        "if X1>X2:\n",
        "   print('the larger num is '+X1)\n",
        "else:\n",
        "   print('the larger num is '+X2)\n",
        "find_gre()"
      ],
      "metadata": {
        "colab": {
          "base_uri": "https://localhost:8080/"
        },
        "id": "d7lFv6SBjPTp",
        "outputId": "4b5273af-1e28-44a7-afa6-fefb0909fb9a"
      },
      "execution_count": 3,
      "outputs": [
        {
          "output_type": "stream",
          "name": "stdout",
          "text": [
            "Overwriting great_script.py\n"
          ]
        }
      ]
    },
    {
      "cell_type": "code",
      "source": [
        "%%writefile sum_script.py\n",
        " \n",
        "def find_sm():\n",
        "   X1=input('enter a number:')\n",
        "   X2=input('enter a number:')\n",
        "if X1<X2:\n",
        "   print('the smaller number is'+X1)\n",
        "else:\n",
        "   print('the samller number is '+X2)\n",
        "find_sm()\n",
        "    "
      ],
      "metadata": {
        "colab": {
          "base_uri": "https://localhost:8080/"
        },
        "id": "jGEPUswFkBUV",
        "outputId": "89ea8095-24e6-445e-ddc2-7e43ec3ee39d"
      },
      "execution_count": 4,
      "outputs": [
        {
          "output_type": "stream",
          "name": "stdout",
          "text": [
            "Writing sum_script.py\n"
          ]
        }
      ]
    },
    {
      "cell_type": "code",
      "source": [
        ""
      ],
      "metadata": {
        "id": "HVY95iPBlID5"
      },
      "execution_count": null,
      "outputs": []
    },
    {
      "cell_type": "markdown",
      "source": [
        "# New Section"
      ],
      "metadata": {
        "id": "gjn9RDFBmF5M"
      }
    }
  ]
}