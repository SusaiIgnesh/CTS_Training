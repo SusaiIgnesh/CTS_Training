{
  "nbformat": 4,
  "nbformat_minor": 0,
  "metadata": {
    "colab": {
      "name": "data_structure_python",
      "provenance": [],
      "collapsed_sections": [],
      "authorship_tag": "ABX9TyMc19hlzD9IfXh+istatOnh",
      "include_colab_link": true
    },
    "kernelspec": {
      "name": "python3",
      "display_name": "Python 3"
    },
    "language_info": {
      "name": "python"
    }
  },
  "cells": [
    {
      "cell_type": "markdown",
      "metadata": {
        "id": "view-in-github",
        "colab_type": "text"
      },
      "source": [
        "<a href=\"https://colab.research.google.com/github/SusaiIgnesh/Readme/blob/main/data_structure_python.ipynb\" target=\"_parent\"><img src=\"https://colab.research.google.com/assets/colab-badge.svg\" alt=\"Open In Colab\"/></a>"
      ]
    },
    {
      "cell_type": "markdown",
      "source": [
        "**Data Structures in Python**\n",
        "\n",
        "(I) **SET METHOD**\n",
        "(II)**LIST METHODS**\n",
        "(III)**Tuple methods**\n",
        "(IV) **Dictionary methods** \n"
      ],
      "metadata": {
        "id": "dNhP8WaujLx6"
      }
    },
    {
      "cell_type": "code",
      "source": [
        "dir(set)"
      ],
      "metadata": {
        "colab": {
          "base_uri": "https://localhost:8080/"
        },
        "id": "s3PX6MzMkRJG",
        "outputId": "29bdeb31-2861-4cba-fd7b-b923d68ae1b8"
      },
      "execution_count": 118,
      "outputs": [
        {
          "output_type": "execute_result",
          "data": {
            "text/plain": [
              "['__and__',\n",
              " '__class__',\n",
              " '__contains__',\n",
              " '__delattr__',\n",
              " '__dir__',\n",
              " '__doc__',\n",
              " '__eq__',\n",
              " '__format__',\n",
              " '__ge__',\n",
              " '__getattribute__',\n",
              " '__gt__',\n",
              " '__hash__',\n",
              " '__iand__',\n",
              " '__init__',\n",
              " '__init_subclass__',\n",
              " '__ior__',\n",
              " '__isub__',\n",
              " '__iter__',\n",
              " '__ixor__',\n",
              " '__le__',\n",
              " '__len__',\n",
              " '__lt__',\n",
              " '__ne__',\n",
              " '__new__',\n",
              " '__or__',\n",
              " '__rand__',\n",
              " '__reduce__',\n",
              " '__reduce_ex__',\n",
              " '__repr__',\n",
              " '__ror__',\n",
              " '__rsub__',\n",
              " '__rxor__',\n",
              " '__setattr__',\n",
              " '__sizeof__',\n",
              " '__str__',\n",
              " '__sub__',\n",
              " '__subclasshook__',\n",
              " '__xor__',\n",
              " 'add',\n",
              " 'clear',\n",
              " 'copy',\n",
              " 'difference',\n",
              " 'difference_update',\n",
              " 'discard',\n",
              " 'intersection',\n",
              " 'intersection_update',\n",
              " 'isdisjoint',\n",
              " 'issubset',\n",
              " 'issuperset',\n",
              " 'pop',\n",
              " 'remove',\n",
              " 'symmetric_difference',\n",
              " 'symmetric_difference_update',\n",
              " 'union',\n",
              " 'update']"
            ]
          },
          "metadata": {},
          "execution_count": 118
        }
      ]
    },
    {
      "cell_type": "markdown",
      "source": [
        "# set method\n"
      ],
      "metadata": {
        "id": "PmptJd78AQSC"
      }
    },
    {
      "cell_type": "code",
      "source": [
        "#(I)SET\n",
        "variable = {5, 10.5, \"apple\", True, False, 5, \"apple\"}\n",
        "variable"
      ],
      "metadata": {
        "colab": {
          "base_uri": "https://localhost:8080/"
        },
        "id": "OUkokz3oAjr3",
        "outputId": "9cfbb00e-6ec9-4a34-8bd4-d7e5e84bc94b"
      },
      "execution_count": null,
      "outputs": [
        {
          "output_type": "execute_result",
          "data": {
            "text/plain": [
              "{10.5, 5, False, True, 'apple'}"
            ]
          },
          "metadata": {},
          "execution_count": 49
        }
      ]
    },
    {
      "cell_type": "code",
      "source": [
        "#add function\n",
        "variable.add(100)"
      ],
      "metadata": {
        "id": "7zvGwVPmoNby"
      },
      "execution_count": null,
      "outputs": []
    },
    {
      "cell_type": "code",
      "source": [
        "#Clear(Removes all the elements from the set)\n",
        "variable.clear()"
      ],
      "metadata": {
        "id": "EIC65DGwoqwa"
      },
      "execution_count": null,
      "outputs": []
    },
    {
      "cell_type": "code",
      "source": [
        "#copy(a copy of the set)\n",
        "variable.copy()"
      ],
      "metadata": {
        "colab": {
          "base_uri": "https://localhost:8080/"
        },
        "id": "_6sOye8Zqkcf",
        "outputId": "0546feb5-8895-4a6e-aef0-6cea938ca7ba"
      },
      "execution_count": null,
      "outputs": [
        {
          "output_type": "execute_result",
          "data": {
            "text/plain": [
              "set()"
            ]
          },
          "metadata": {},
          "execution_count": 14
        }
      ]
    },
    {
      "cell_type": "code",
      "source": [
        "#difference(set that contains the items that only exist in set A, and not in set Y)\n",
        "A = {\"AI\",\"BIG DATA\",\"DATA\",'ML'}\n",
        "B = {\"BIG DATA\",\"STAT\",\"COMPUTER\",\"DATA\"}\n",
        "P = A.difference(B)\n",
        "print(P)"
      ],
      "metadata": {
        "colab": {
          "base_uri": "https://localhost:8080/"
        },
        "id": "Sq9ZvJhBraeH",
        "outputId": "2a6059fd-c86e-4e91-aa47-46d59e592118"
      },
      "execution_count": null,
      "outputs": [
        {
          "output_type": "stream",
          "name": "stdout",
          "text": [
            "{'ML', 'AI'}\n"
          ]
        }
      ]
    },
    {
      "cell_type": "code",
      "source": [
        "#DISCARD(clear the specified item)\n",
        "name={\"ML\",\"AI\",\"BIG DATA\",\"STAT\"}\n",
        "name.discard(\"BIG DATA\")\n",
        "print(name)"
      ],
      "metadata": {
        "colab": {
          "base_uri": "https://localhost:8080/"
        },
        "id": "gVy50KchtBqF",
        "outputId": "8e9fce0e-4834-41c0-81b8-184bb8166fdf"
      },
      "execution_count": null,
      "outputs": [
        {
          "output_type": "stream",
          "name": "stdout",
          "text": [
            "{'STAT', 'ML', 'AI'}\n"
          ]
        }
      ]
    },
    {
      "cell_type": "code",
      "source": [
        "#intersection( that only contains the items that are present in both sets)\n",
        "A = {\"AI\",\"BIG DATA\",\"DATA\",'ML'}\n",
        "B = {\"BIG DATA\",\"STAT\",\"COMPUTER\",\"DATA\"}\n",
        "output= A.intersection(B)\n",
        "print(output)\n"
      ],
      "metadata": {
        "colab": {
          "base_uri": "https://localhost:8080/"
        },
        "id": "JJlvxBvGuDlZ",
        "outputId": "c7f45667-813f-4166-b66c-dd1c8e34f072"
      },
      "execution_count": null,
      "outputs": [
        {
          "output_type": "stream",
          "name": "stdout",
          "text": [
            "{'BIG DATA', 'DATA'}\n"
          ]
        }
      ]
    },
    {
      "cell_type": "code",
      "source": [
        "#difference_update  (Remove the items that exist in both sets)\n",
        "A = {\"AI\",\"BIG DATA\",\"DATA\",'ML'}\n",
        "B = {\"BIG DATA\",\"STAT\",\"COMPUTER\",\"DATA\"}\n",
        "A.difference_update(B)\n",
        "print(A)"
      ],
      "metadata": {
        "colab": {
          "base_uri": "https://localhost:8080/"
        },
        "id": "2dj3iZqHDa68",
        "outputId": "008f4039-f6c6-44dd-88a9-1176b9d8a411"
      },
      "execution_count": null,
      "outputs": [
        {
          "output_type": "stream",
          "name": "stdout",
          "text": [
            "{'ML', 'AI'}\n"
          ]
        }
      ]
    },
    {
      "cell_type": "code",
      "source": [
        "#intersection_update(Removes the items in this set that are not present in other specified set)\n",
        "A = {\"AI\",\"BIG DATA\",\"DATA\",'ML'}\n",
        "B = {\"BIG DATA\",\"STAT\",\"COMPUTER\",\"DATA\"}\n",
        "C={\"DATA\",\"MATH\",\"SPORTS\",\"ANALYSIS\"}\n",
        "A.intersection_update(B, C)\n",
        "print(A)"
      ],
      "metadata": {
        "colab": {
          "base_uri": "https://localhost:8080/"
        },
        "id": "imPZvOTOvPbH",
        "outputId": "e334eb05-644a-4ade-abfe-eec325fadc4a"
      },
      "execution_count": null,
      "outputs": [
        {
          "output_type": "stream",
          "name": "stdout",
          "text": [
            "{'DATA'}\n"
          ]
        }
      ]
    },
    {
      "cell_type": "code",
      "source": [
        "#isdisjoint(it is shown whether two sets have a intersection or not)\n",
        "A = {\"AI\",\"BIG DATA\",\"DATA\",'ML'}\n",
        "B = {\"BIG DATA\",\"STAT\",\"COMPUTER\",\"DATA\"}\n",
        "L = A.isdisjoint(B) \n",
        "\n",
        "print(L)"
      ],
      "metadata": {
        "colab": {
          "base_uri": "https://localhost:8080/"
        },
        "id": "fCu2Of3DwRK9",
        "outputId": "8f762a3f-9e16-44e3-a3c1-2e46e6249074"
      },
      "execution_count": null,
      "outputs": [
        {
          "output_type": "stream",
          "name": "stdout",
          "text": [
            "False\n"
          ]
        }
      ]
    },
    {
      "cell_type": "code",
      "source": [
        "#issubset(if the all itemS present in both A AND B)\n",
        "A = {\"AI\",\"BIG DATA\",\"DATA\",'ML'}\n",
        "B = {\"BIG DATA\",\"AI\",\"ML\",\"DATA\"}\n",
        "K = A.issubset(B)\n",
        "print(K)"
      ],
      "metadata": {
        "colab": {
          "base_uri": "https://localhost:8080/"
        },
        "id": "m74XWomBxIZb",
        "outputId": "5a658e7a-e3df-493a-ac8a-6f12001b4f33"
      },
      "execution_count": null,
      "outputs": [
        {
          "output_type": "stream",
          "name": "stdout",
          "text": [
            "True\n"
          ]
        }
      ]
    },
    {
      "cell_type": "code",
      "source": [
        "#issuperset( if all items set B are present in set A)\n",
        "A = {\"AI\",\"BIG DATA\",\"DATA\",'ML'}\n",
        "B = {\"BIG DATA\",\"AI\",\"ML\",\"DATA\"}\n",
        "K = A.issuperset(B)\n",
        "print(K)"
      ],
      "metadata": {
        "colab": {
          "base_uri": "https://localhost:8080/"
        },
        "id": "2uEhKa83xunI",
        "outputId": "7fd6200e-5784-4ac7-f9d7-6d9274c6c355"
      },
      "execution_count": null,
      "outputs": [
        {
          "output_type": "stream",
          "name": "stdout",
          "text": [
            "True\n"
          ]
        }
      ]
    },
    {
      "cell_type": "code",
      "source": [
        "#pop(Remove a random item from the set)\n",
        "A = {\"AI\",\"BIG DATA\",\"DATA\",'ML'}\n",
        "A.pop()\n",
        "\n",
        "print(A)"
      ],
      "metadata": {
        "colab": {
          "base_uri": "https://localhost:8080/"
        },
        "id": "s1RjQ2fcyyYr",
        "outputId": "ce02acf9-4e72-4bf5-9b4b-4a43ac3f396f"
      },
      "execution_count": null,
      "outputs": [
        {
          "output_type": "stream",
          "name": "stdout",
          "text": [
            "{'AI', 'BIG DATA', 'DATA'}\n"
          ]
        }
      ]
    },
    {
      "cell_type": "code",
      "source": [
        "#remove(Removes the specified element)\n",
        "A = {\"AI\",\"BIG DATA\",\"DATA\",'ML'}\n",
        "A.remove(\"ML\")\n",
        "print(A)"
      ],
      "metadata": {
        "colab": {
          "base_uri": "https://localhost:8080/"
        },
        "id": "YIaaJUTIzWby",
        "outputId": "552cb3a5-d842-4036-882e-6fcf8782bac1"
      },
      "execution_count": null,
      "outputs": [
        {
          "output_type": "stream",
          "name": "stdout",
          "text": [
            "{'AI', 'BIG DATA', 'DATA'}\n"
          ]
        }
      ]
    },
    {
      "cell_type": "code",
      "source": [
        "#symmetric_difference(It contain all items in both set,except items that are not present in both sets)\n",
        "A = {\"AI\",\"BIG DATA\",\"DATA\",'ML'}\n",
        "C={\"DATA\",\"MATH\",\"SPORTS\",\"ANALYSIS\"}\n",
        "K = A.symmetric_difference(C)\n",
        "print(K)"
      ],
      "metadata": {
        "colab": {
          "base_uri": "https://localhost:8080/"
        },
        "id": "Cda9le6pzoAG",
        "outputId": "29497871-2453-443b-8904-06031e493aa4"
      },
      "execution_count": null,
      "outputs": [
        {
          "output_type": "stream",
          "name": "stdout",
          "text": [
            "{'ML', 'MATH', 'AI', 'SPORTS', 'BIG DATA', 'ANALYSIS'}\n"
          ]
        }
      ]
    },
    {
      "cell_type": "code",
      "source": [
        "#symmetric_difference_update(Remove the items that are present in both sets)\n",
        "A = {\"AI\",\"BIG DATA\",\"DATA\",'ML'}\n",
        "C={\"DATA\",\"MATH\",\"SPORTS\",\"ANALYSIS\"}\n",
        "A.symmetric_difference_update(C) \n",
        "print(A)"
      ],
      "metadata": {
        "colab": {
          "base_uri": "https://localhost:8080/"
        },
        "id": "vPKeQD-Z0MmL",
        "outputId": "5a23936d-1c13-47e4-ea00-9382eda4474d"
      },
      "execution_count": null,
      "outputs": [
        {
          "output_type": "stream",
          "name": "stdout",
          "text": [
            "{'ML', 'AI', 'MATH', 'SPORTS', 'BIG DATA', 'ANALYSIS'}\n"
          ]
        }
      ]
    },
    {
      "cell_type": "code",
      "source": [
        "#union(set that contains all items from both sets)\n",
        "A = {\"AI\",\"BIG DATA\",\"DATA\",'ML'}\n",
        "B = {\"BIG DATA\",\"AI\",\"ML\",\"DATA\"}\n",
        "G= A.union(B)\n",
        "print(G)"
      ],
      "metadata": {
        "colab": {
          "base_uri": "https://localhost:8080/"
        },
        "id": "P1qEcocq1rF1",
        "outputId": "9b9a89d7-f8a4-4197-b98b-6bd3a95416d6"
      },
      "execution_count": null,
      "outputs": [
        {
          "output_type": "stream",
          "name": "stdout",
          "text": [
            "{'ML', 'AI', 'DATA', 'BIG DATA'}\n"
          ]
        }
      ]
    },
    {
      "cell_type": "code",
      "source": [
        "#update(add multiple items to a set)\n",
        "#we can use list, tuple, set\n",
        "A = {\"AI\",\"BIG DATA\",\"DATA\",'ML'}\n",
        "A.update([\"xxx\",\"YYY\"])\n",
        "A"
      ],
      "metadata": {
        "colab": {
          "base_uri": "https://localhost:8080/"
        },
        "id": "hN2Op2kr2O4G",
        "outputId": "c283e29a-fb02-4b88-dae6-811350fd6f55"
      },
      "execution_count": null,
      "outputs": [
        {
          "output_type": "execute_result",
          "data": {
            "text/plain": [
              "{'AI', 'BIG DATA', 'DATA', 'ML', 'YYY', 'xxx'}"
            ]
          },
          "metadata": {},
          "execution_count": 46
        }
      ]
    },
    {
      "cell_type": "markdown",
      "source": [
        "**LIST METHODS**"
      ],
      "metadata": {
        "id": "tS-IfS-0HqXP"
      }
    },
    {
      "cell_type": "code",
      "source": [
        "dir(list)"
      ],
      "metadata": {
        "colab": {
          "base_uri": "https://localhost:8080/"
        },
        "id": "9xkT9WPRH9GB",
        "outputId": "db2f6fc7-d93f-41df-b4b9-7b888e7217e4"
      },
      "execution_count": null,
      "outputs": [
        {
          "output_type": "execute_result",
          "data": {
            "text/plain": [
              "['__add__',\n",
              " '__class__',\n",
              " '__contains__',\n",
              " '__delattr__',\n",
              " '__delitem__',\n",
              " '__dir__',\n",
              " '__doc__',\n",
              " '__eq__',\n",
              " '__format__',\n",
              " '__ge__',\n",
              " '__getattribute__',\n",
              " '__getitem__',\n",
              " '__gt__',\n",
              " '__hash__',\n",
              " '__iadd__',\n",
              " '__imul__',\n",
              " '__init__',\n",
              " '__init_subclass__',\n",
              " '__iter__',\n",
              " '__le__',\n",
              " '__len__',\n",
              " '__lt__',\n",
              " '__mul__',\n",
              " '__ne__',\n",
              " '__new__',\n",
              " '__reduce__',\n",
              " '__reduce_ex__',\n",
              " '__repr__',\n",
              " '__reversed__',\n",
              " '__rmul__',\n",
              " '__setattr__',\n",
              " '__setitem__',\n",
              " '__sizeof__',\n",
              " '__str__',\n",
              " '__subclasshook__',\n",
              " 'append',\n",
              " 'clear',\n",
              " 'copy',\n",
              " 'count',\n",
              " 'extend',\n",
              " 'index',\n",
              " 'insert',\n",
              " 'pop',\n",
              " 'remove',\n",
              " 'reverse',\n",
              " 'sort']"
            ]
          },
          "metadata": {},
          "execution_count": 59
        }
      ]
    },
    {
      "cell_type": "markdown",
      "source": [
        "**1) append( )**\n",
        "a\n",
        "dds item/items at the end of the list"
      ],
      "metadata": {
        "id": "kVnWneUBIInU"
      }
    },
    {
      "cell_type": "code",
      "source": [
        "A = [\"AI\",\"BIG DATA\",\"DATA\",'ML']\n",
        "A.append(\"CDA\")\n",
        "print(A)"
      ],
      "metadata": {
        "colab": {
          "base_uri": "https://localhost:8080/"
        },
        "id": "lnJxtf1SIPjp",
        "outputId": "34f13ed2-d7a3-41a4-9518-b8009c5546db"
      },
      "execution_count": null,
      "outputs": [
        {
          "output_type": "stream",
          "name": "stdout",
          "text": [
            "['AI', 'BIG DATA', 'DATA', 'ML', 'CDA']\n"
          ]
        }
      ]
    },
    {
      "cell_type": "markdown",
      "source": [
        "**2) insert( )**\n",
        "\n",
        "inserts item at a specific index location."
      ],
      "metadata": {
        "id": "0791r_o9JdyT"
      }
    },
    {
      "cell_type": "code",
      "source": [
        "A.insert(4,\"stat\")\n",
        "print(A)"
      ],
      "metadata": {
        "colab": {
          "base_uri": "https://localhost:8080/"
        },
        "id": "Aay4JRjzJ9QJ",
        "outputId": "0ca60c04-bf7d-4db7-c377-11aaa403d57f"
      },
      "execution_count": null,
      "outputs": [
        {
          "output_type": "stream",
          "name": "stdout",
          "text": [
            "['AI', 'BIG DATA', 'DATA', 'R', 'stat', 'R', 'R', 'ML', 'CDA']\n"
          ]
        }
      ]
    },
    {
      "cell_type": "markdown",
      "source": [
        "**3) remove( )**\n",
        "\n",
        "removes the first items specified element in the list."
      ],
      "metadata": {
        "id": "9E--ejjmKZjf"
      }
    },
    {
      "cell_type": "code",
      "source": [
        "A.remove(\"R\")\n",
        "print(A)"
      ],
      "metadata": {
        "colab": {
          "base_uri": "https://localhost:8080/"
        },
        "id": "wT5NzXe7KMQR",
        "outputId": "cef5c243-15fb-44f1-85f7-744e332d20c3"
      },
      "execution_count": null,
      "outputs": [
        {
          "output_type": "stream",
          "name": "stdout",
          "text": [
            "['AI', 'BIG DATA', 'DATA', 'stat', 'ML', 'CDA']\n"
          ]
        }
      ]
    },
    {
      "cell_type": "markdown",
      "source": [
        "**4) POP()**\n",
        "\n",
        "Removes the element at the specified position"
      ],
      "metadata": {
        "id": "S-04zvJaLROs"
      }
    },
    {
      "cell_type": "code",
      "source": [
        "#index is specified\n",
        "A.pop(2)\n",
        "print(A)"
      ],
      "metadata": {
        "colab": {
          "base_uri": "https://localhost:8080/"
        },
        "id": "cDEHSDnWLZIO",
        "outputId": "98710f37-010c-4ffc-8c10-1dab60bec764"
      },
      "execution_count": null,
      "outputs": [
        {
          "output_type": "stream",
          "name": "stdout",
          "text": [
            "['AI', 'BIG DATA', 'stat', 'ML', 'CDA']\n"
          ]
        }
      ]
    },
    {
      "cell_type": "markdown",
      "source": [
        "**5) clear( )**\n",
        "\n",
        "Removes all the elements from the list."
      ],
      "metadata": {
        "id": "zCpNQPbuL9sc"
      }
    },
    {
      "cell_type": "code",
      "source": [
        "VAR=['AI', 'BIG DATA', 'DATA', 'stat', 'ML', 'CDA',2,3,45,{\"xx\":\"yy\"}]\n",
        "VAR.clear()\n",
        "print(VAR)"
      ],
      "metadata": {
        "colab": {
          "base_uri": "https://localhost:8080/"
        },
        "id": "jrU2exoFMJ0T",
        "outputId": "3f6c585d-8ace-4a30-99a2-70f8c3a96a69"
      },
      "execution_count": null,
      "outputs": [
        {
          "output_type": "stream",
          "name": "stdout",
          "text": [
            "[]\n"
          ]
        }
      ]
    },
    {
      "cell_type": "markdown",
      "source": [
        "**6) copy( )**\n",
        "\n",
        "copying the list / creating a duplicate list"
      ],
      "metadata": {
        "id": "WttDPgwnM0da"
      }
    },
    {
      "cell_type": "code",
      "source": [
        "A = [\"AI\",\"BIG DATA\",\"DATA\",'ML',(23,45),{\"RRR\":89}]\n",
        "X=A.copy()\n",
        "print(A)"
      ],
      "metadata": {
        "colab": {
          "base_uri": "https://localhost:8080/"
        },
        "id": "K3QW4RQFM6xh",
        "outputId": "a474281e-f676-4ab9-9c5c-cb697f22d2b6"
      },
      "execution_count": null,
      "outputs": [
        {
          "output_type": "stream",
          "name": "stdout",
          "text": [
            "['AI', 'BIG DATA', 'DATA', 'ML', (23, 45), {'RRR': 89}]\n"
          ]
        }
      ]
    },
    {
      "cell_type": "markdown",
      "source": [
        "**7) extend( )**\n",
        "\n",
        "Adding a list with another list."
      ],
      "metadata": {
        "id": "dP4wqCENNlZH"
      }
    },
    {
      "cell_type": "code",
      "source": [
        "list1=[23,45,67]\n",
        "list2=[45,67,89,90]\n",
        "list1.extend(list2)\n",
        "list1"
      ],
      "metadata": {
        "colab": {
          "base_uri": "https://localhost:8080/"
        },
        "id": "HGZMwnCtNqZ_",
        "outputId": "6af8297a-5eb2-4d46-8af1-30ca8a2cfb7b"
      },
      "execution_count": null,
      "outputs": [
        {
          "output_type": "execute_result",
          "data": {
            "text/plain": [
              "[23, 45, 67, 45, 67, 89, 90]"
            ]
          },
          "metadata": {},
          "execution_count": 74
        }
      ]
    },
    {
      "cell_type": "markdown",
      "source": [
        "**8) sort( )**\n",
        "\n",
        "Sorts the list\n"
      ],
      "metadata": {
        "id": "sEa0jBvdOjTx"
      }
    },
    {
      "cell_type": "code",
      "source": [
        "#in the system automatically takes the elements in the list are sorted in Ascending order\n",
        "list3=[34,56,78,45,89,34]\n",
        "list3.sort()\n",
        "list3\n"
      ],
      "metadata": {
        "colab": {
          "base_uri": "https://localhost:8080/"
        },
        "id": "iPplQpBAOr7T",
        "outputId": "6d818984-8d91-4882-ffb2-4480f041eb8f"
      },
      "execution_count": null,
      "outputs": [
        {
          "output_type": "execute_result",
          "data": {
            "text/plain": [
              "[34, 34, 45, 56, 78, 89]"
            ]
          },
          "metadata": {},
          "execution_count": 76
        }
      ]
    },
    {
      "cell_type": "code",
      "source": [
        "#if you want to use descending order\n",
        "list3.sort(reverse = True) \n",
        "list3"
      ],
      "metadata": {
        "colab": {
          "base_uri": "https://localhost:8080/"
        },
        "id": "QtDtMn-fPTzT",
        "outputId": "28bc6ab8-d30d-4263-828d-39eb0c15bb14"
      },
      "execution_count": null,
      "outputs": [
        {
          "output_type": "execute_result",
          "data": {
            "text/plain": [
              "[89, 78, 56, 45, 34, 34]"
            ]
          },
          "metadata": {},
          "execution_count": 77
        }
      ]
    },
    {
      "cell_type": "markdown",
      "source": [
        "**9) index( )**\n",
        "\n",
        "Returns the index of first specified element"
      ],
      "metadata": {
        "id": "CBBpCrRSPs8n"
      }
    },
    {
      "cell_type": "code",
      "source": [
        "A = [\"AI\",\"BIG DATA\",\"DATA\",'ML']\n",
        "A.index(\"ML\")"
      ],
      "metadata": {
        "colab": {
          "base_uri": "https://localhost:8080/"
        },
        "id": "I-3ST6BgQFDc",
        "outputId": "0862e87e-97ec-4dc6-f3d7-6071c29e24d4"
      },
      "execution_count": null,
      "outputs": [
        {
          "output_type": "execute_result",
          "data": {
            "text/plain": [
              "3"
            ]
          },
          "metadata": {},
          "execution_count": 78
        }
      ]
    },
    {
      "cell_type": "markdown",
      "source": [
        "**10) count( )**\n",
        "\n",
        "Returns the number of times a specified value occurs in a tuple"
      ],
      "metadata": {
        "id": "CjGdavSVQpRb"
      }
    },
    {
      "cell_type": "code",
      "source": [
        "A = [\"AI\",\"BIG DATA\",\"DATA\",'ML']\n",
        "A.count(\"ML\")"
      ],
      "metadata": {
        "colab": {
          "base_uri": "https://localhost:8080/"
        },
        "id": "TC1oyiXyQy9d",
        "outputId": "cbeed502-1350-4edb-be93-2f2088fbd69f"
      },
      "execution_count": null,
      "outputs": [
        {
          "output_type": "execute_result",
          "data": {
            "text/plain": [
              "1"
            ]
          },
          "metadata": {},
          "execution_count": 79
        }
      ]
    },
    {
      "cell_type": "markdown",
      "source": [
        "**11) reverse( )**\n",
        "\n",
        "reverses the position of the elements in the list"
      ],
      "metadata": {
        "id": "87fK1RK8Q7nn"
      }
    },
    {
      "cell_type": "code",
      "source": [
        "A = [\"AI\",\"BIG DATA\",\"DATA\",'ML']\n",
        "A.reverse()"
      ],
      "metadata": {
        "id": "iIFadBpPQ_2X"
      },
      "execution_count": null,
      "outputs": []
    },
    {
      "cell_type": "markdown",
      "source": [
        "**Tuple methods**"
      ],
      "metadata": {
        "id": "UCmoOuL-RVUj"
      }
    },
    {
      "cell_type": "code",
      "source": [
        "dir(tuple)"
      ],
      "metadata": {
        "colab": {
          "base_uri": "https://localhost:8080/"
        },
        "id": "15FBGwahRkcO",
        "outputId": "637878c0-40f7-4581-9d86-eebdc87163a5"
      },
      "execution_count": null,
      "outputs": [
        {
          "output_type": "execute_result",
          "data": {
            "text/plain": [
              "['__add__',\n",
              " '__class__',\n",
              " '__contains__',\n",
              " '__delattr__',\n",
              " '__dir__',\n",
              " '__doc__',\n",
              " '__eq__',\n",
              " '__format__',\n",
              " '__ge__',\n",
              " '__getattribute__',\n",
              " '__getitem__',\n",
              " '__getnewargs__',\n",
              " '__gt__',\n",
              " '__hash__',\n",
              " '__init__',\n",
              " '__init_subclass__',\n",
              " '__iter__',\n",
              " '__le__',\n",
              " '__len__',\n",
              " '__lt__',\n",
              " '__mul__',\n",
              " '__ne__',\n",
              " '__new__',\n",
              " '__reduce__',\n",
              " '__reduce_ex__',\n",
              " '__repr__',\n",
              " '__rmul__',\n",
              " '__setattr__',\n",
              " '__sizeof__',\n",
              " '__str__',\n",
              " '__subclasshook__',\n",
              " 'count',\n",
              " 'index']"
            ]
          },
          "metadata": {},
          "execution_count": 81
        }
      ]
    },
    {
      "cell_type": "markdown",
      "source": [
        "**1) Count( )**\n",
        "\n",
        "Returns the number of times a specified value occurs in a tuple"
      ],
      "metadata": {
        "id": "SlGz4ebqRprK"
      }
    },
    {
      "cell_type": "code",
      "source": [
        "MY=({\"data\":12},[1,3,4,5],56,\"myname\")\n",
        "MY"
      ],
      "metadata": {
        "colab": {
          "base_uri": "https://localhost:8080/"
        },
        "id": "7ZIYWlcpR5f4",
        "outputId": "58d333c8-d8f6-484b-92a4-bd2dbf506091"
      },
      "execution_count": null,
      "outputs": [
        {
          "output_type": "execute_result",
          "data": {
            "text/plain": [
              "({'data': 12}, [1, 3, 4, 5], 56, 'myname')"
            ]
          },
          "metadata": {},
          "execution_count": 82
        }
      ]
    },
    {
      "cell_type": "code",
      "source": [
        "MY.count(56)"
      ],
      "metadata": {
        "colab": {
          "base_uri": "https://localhost:8080/"
        },
        "id": "In5-1y5FSOC9",
        "outputId": "82020146-3367-4be2-c07e-af78aca572c3"
      },
      "execution_count": null,
      "outputs": [
        {
          "output_type": "execute_result",
          "data": {
            "text/plain": [
              "1"
            ]
          },
          "metadata": {},
          "execution_count": 86
        }
      ]
    },
    {
      "cell_type": "markdown",
      "source": [
        "**2) Index( )**\n",
        "\n",
        "Searches the tuple for a specified value"
      ],
      "metadata": {
        "id": "sC0DDUVWS6eW"
      }
    },
    {
      "cell_type": "code",
      "source": [
        "MY.index(\"myname\")"
      ],
      "metadata": {
        "colab": {
          "base_uri": "https://localhost:8080/"
        },
        "id": "qCB7KyK_TBI6",
        "outputId": "ff0724c6-b114-44b5-d9f6-0f9ef1ff07bb"
      },
      "execution_count": null,
      "outputs": [
        {
          "output_type": "execute_result",
          "data": {
            "text/plain": [
              "3"
            ]
          },
          "metadata": {},
          "execution_count": 89
        }
      ]
    },
    {
      "cell_type": "markdown",
      "source": [
        "**Dictionary methods**"
      ],
      "metadata": {
        "id": "69m7vipQU-vU"
      }
    },
    {
      "cell_type": "code",
      "source": [
        "dir(dict)"
      ],
      "metadata": {
        "colab": {
          "base_uri": "https://localhost:8080/"
        },
        "id": "9lzjrB9pVBWf",
        "outputId": "8e0058e8-360e-475e-efd7-07f0afe66e3f"
      },
      "execution_count": null,
      "outputs": [
        {
          "output_type": "execute_result",
          "data": {
            "text/plain": [
              "['__class__',\n",
              " '__contains__',\n",
              " '__delattr__',\n",
              " '__delitem__',\n",
              " '__dir__',\n",
              " '__doc__',\n",
              " '__eq__',\n",
              " '__format__',\n",
              " '__ge__',\n",
              " '__getattribute__',\n",
              " '__getitem__',\n",
              " '__gt__',\n",
              " '__hash__',\n",
              " '__init__',\n",
              " '__init_subclass__',\n",
              " '__iter__',\n",
              " '__le__',\n",
              " '__len__',\n",
              " '__lt__',\n",
              " '__ne__',\n",
              " '__new__',\n",
              " '__reduce__',\n",
              " '__reduce_ex__',\n",
              " '__repr__',\n",
              " '__setattr__',\n",
              " '__setitem__',\n",
              " '__sizeof__',\n",
              " '__str__',\n",
              " '__subclasshook__',\n",
              " 'clear',\n",
              " 'copy',\n",
              " 'fromkeys',\n",
              " 'get',\n",
              " 'items',\n",
              " 'keys',\n",
              " 'pop',\n",
              " 'popitem',\n",
              " 'setdefault',\n",
              " 'update',\n",
              " 'values']"
            ]
          },
          "metadata": {},
          "execution_count": 90
        }
      ]
    },
    {
      "cell_type": "code",
      "source": [
        "var2={ \"Student_name\":\"Varun\",\"Student_id\":123,\"student_address\":\"xxyz\",\"student_mark\":90,\"student_performance\":\"good\"}\n",
        "var2"
      ],
      "metadata": {
        "colab": {
          "base_uri": "https://localhost:8080/"
        },
        "id": "OX5cUNBaVMIW",
        "outputId": "c898c12e-8678-4897-bb42-c8df9aa9f67d"
      },
      "execution_count": null,
      "outputs": [
        {
          "output_type": "execute_result",
          "data": {
            "text/plain": [
              "{'Student_name': 'Varun',\n",
              " 'Student_id': 123,\n",
              " 'student_address': 'xxyz',\n",
              " 'student_mark': 90,\n",
              " 'student_performance': 'good'}"
            ]
          },
          "metadata": {},
          "execution_count": 93
        }
      ]
    },
    {
      "cell_type": "markdown",
      "source": [
        "**1) get( )**\n",
        "\n",
        "returns the value of the specified key"
      ],
      "metadata": {
        "id": "8IUicZ_oVvKt"
      }
    },
    {
      "cell_type": "code",
      "source": [
        "var2.get(\"student_mark\")"
      ],
      "metadata": {
        "colab": {
          "base_uri": "https://localhost:8080/"
        },
        "id": "W5_kLtkdV0qJ",
        "outputId": "0fe04dce-9bb9-494c-f3e2-a6a2f1d1a0d2"
      },
      "execution_count": null,
      "outputs": [
        {
          "output_type": "execute_result",
          "data": {
            "text/plain": [
              "90"
            ]
          },
          "metadata": {},
          "execution_count": 100
        }
      ]
    },
    {
      "cell_type": "markdown",
      "source": [
        "**2) keys( )**\n",
        "\n",
        "returns all the keys and only keys"
      ],
      "metadata": {
        "id": "TqFh3zCUXCKg"
      }
    },
    {
      "cell_type": "code",
      "source": [
        "var2.keys()"
      ],
      "metadata": {
        "colab": {
          "base_uri": "https://localhost:8080/"
        },
        "id": "2_5394szXKKc",
        "outputId": "c544cd91-6cac-46b7-e35e-e8f42b22cbde"
      },
      "execution_count": null,
      "outputs": [
        {
          "output_type": "execute_result",
          "data": {
            "text/plain": [
              "dict_keys(['Student_name', 'Student_id', 'student_address', 'student_mark', 'student_performance'])"
            ]
          },
          "metadata": {},
          "execution_count": 101
        }
      ]
    },
    {
      "cell_type": "markdown",
      "source": [
        "3)**clear()**\n",
        "\n",
        "Removes all the elements from the dictionar"
      ],
      "metadata": {
        "id": "o8QEhblzXaeN"
      }
    },
    {
      "cell_type": "code",
      "source": [
        "var2.clear()\n",
        "print(var2)"
      ],
      "metadata": {
        "colab": {
          "base_uri": "https://localhost:8080/"
        },
        "id": "QKRYIeKbXn9r",
        "outputId": "e12ad206-53d1-4fe0-8eb5-0ac6a9b41036"
      },
      "execution_count": null,
      "outputs": [
        {
          "output_type": "stream",
          "name": "stdout",
          "text": [
            "{}\n"
          ]
        }
      ]
    },
    {
      "cell_type": "markdown",
      "source": [
        "**4) copy**\n",
        "\n",
        "copy of the dictionary"
      ],
      "metadata": {
        "id": "lPv19WwtYGhw"
      }
    },
    {
      "cell_type": "code",
      "source": [
        "var2={ \"Student_name\":\"Varun\",\"Student_id\":123,\"student_address\":\"xxyz\",\"student_mark\":90,\"student_performance\":\"good\"}\n",
        "var2"
      ],
      "metadata": {
        "colab": {
          "base_uri": "https://localhost:8080/"
        },
        "id": "fnkeAnMJYa6f",
        "outputId": "d89b6c4a-0d2a-4993-9923-97cb197290bb"
      },
      "execution_count": null,
      "outputs": [
        {
          "output_type": "execute_result",
          "data": {
            "text/plain": [
              "{'Student_name': 'Varun',\n",
              " 'Student_id': 123,\n",
              " 'student_address': 'xxyz',\n",
              " 'student_mark': 90,\n",
              " 'student_performance': 'good'}"
            ]
          },
          "metadata": {},
          "execution_count": 105
        }
      ]
    },
    {
      "cell_type": "code",
      "source": [
        "var3=var2.copy()\n",
        "var3"
      ],
      "metadata": {
        "colab": {
          "base_uri": "https://localhost:8080/"
        },
        "id": "qI_QHLqfYkWl",
        "outputId": "26662669-85fd-427f-dae4-a694cfe4829e"
      },
      "execution_count": null,
      "outputs": [
        {
          "output_type": "execute_result",
          "data": {
            "text/plain": [
              "{'Student_name': 'Varun',\n",
              " 'Student_id': 123,\n",
              " 'student_address': 'xxyz',\n",
              " 'student_mark': 90,\n",
              " 'student_performance': 'good'}"
            ]
          },
          "metadata": {},
          "execution_count": 106
        }
      ]
    },
    {
      "cell_type": "markdown",
      "source": [
        "**5) fromkeys()**\n",
        "\n",
        "create a dictionary with the specified keys and value"
      ],
      "metadata": {
        "id": "W7Kz0npQYrKU"
      }
    },
    {
      "cell_type": "code",
      "source": [
        "dis={'location_1','location_2','location_3'}\n",
        "dis2=\"heaven\"\n",
        "out = dict.fromkeys(dis, dis2)\n",
        "print(out)"
      ],
      "metadata": {
        "colab": {
          "base_uri": "https://localhost:8080/"
        },
        "id": "6gGGLSu0ZKmE",
        "outputId": "3363c7d7-2bf7-487c-e251-e0bb24c87734"
      },
      "execution_count": null,
      "outputs": [
        {
          "output_type": "stream",
          "name": "stdout",
          "text": [
            "{'location_3': 'heaven', 'location_1': 'heaven', 'location_2': 'heaven'}\n"
          ]
        }
      ]
    },
    {
      "cell_type": "markdown",
      "source": [
        "**6) items()**\n",
        "\n",
        "returns both key and value in seperate tuple."
      ],
      "metadata": {
        "id": "ljL7xBKyaAHb"
      }
    },
    {
      "cell_type": "code",
      "source": [
        "x = out.items()\n",
        "\n",
        "print(x)"
      ],
      "metadata": {
        "colab": {
          "base_uri": "https://localhost:8080/"
        },
        "id": "mdYEXx5qaeis",
        "outputId": "0074a76d-6e9a-4a9c-b8c8-528c85b33d45"
      },
      "execution_count": null,
      "outputs": [
        {
          "output_type": "stream",
          "name": "stdout",
          "text": [
            "dict_items([('location_3', 'heaven'), ('location_1', 'heaven'), ('location_2', 'heaven')])\n"
          ]
        }
      ]
    },
    {
      "cell_type": "markdown",
      "source": [
        "**7) pop()**\n",
        "\n",
        "remove the value with specified key"
      ],
      "metadata": {
        "id": "aVAF4c2_avDq"
      }
    },
    {
      "cell_type": "code",
      "source": [
        "var2.pop(\"Student_name\")"
      ],
      "metadata": {
        "colab": {
          "base_uri": "https://localhost:8080/",
          "height": 35
        },
        "id": "a2s8lk1WbETL",
        "outputId": "64b9c5e5-1a8e-4c7a-a26f-771742af0091"
      },
      "execution_count": null,
      "outputs": [
        {
          "output_type": "execute_result",
          "data": {
            "text/plain": [
              "'Varun'"
            ],
            "application/vnd.google.colaboratory.intrinsic+json": {
              "type": "string"
            }
          },
          "metadata": {},
          "execution_count": 109
        }
      ]
    },
    {
      "cell_type": "markdown",
      "source": [
        "**8) popitem()**\n",
        "\n",
        "Remove the last item from the dictionary"
      ],
      "metadata": {
        "id": "xwziU2GDbU4V"
      }
    },
    {
      "cell_type": "code",
      "source": [
        "var2={ \"Student_name\":\"Varun\",\"Student_id\":123,\"student_address\":\"xxyz\",\"student_mark\":90,\"student_performance\":\"good\"}\n",
        "var2.popitem()\n",
        "print(var2)"
      ],
      "metadata": {
        "colab": {
          "base_uri": "https://localhost:8080/"
        },
        "id": "8MfgcbHebl7U",
        "outputId": "dc7fe3dc-e5a9-4061-dc2f-c435dbcae981"
      },
      "execution_count": null,
      "outputs": [
        {
          "output_type": "stream",
          "name": "stdout",
          "text": [
            "{'Student_name': 'Varun', 'Student_id': 123, 'student_address': 'xxyz', 'student_mark': 90}\n"
          ]
        }
      ]
    },
    {
      "cell_type": "markdown",
      "source": [
        "9**) setdefault()**\n",
        "\n",
        "Returns the value of the specified key"
      ],
      "metadata": {
        "id": "BGts5iPyb-c-"
      }
    },
    {
      "cell_type": "markdown",
      "source": [
        ""
      ],
      "metadata": {
        "id": "nVw5Q3ukc9Oe"
      }
    },
    {
      "cell_type": "code",
      "source": [
        "x = var2.setdefault(\"Student_id\", \"Student_idxx\")\n",
        "\n",
        "print(x)"
      ],
      "metadata": {
        "colab": {
          "base_uri": "https://localhost:8080/"
        },
        "id": "zCDoEOTpcnE2",
        "outputId": "a68e8796-f350-49cb-d0de-98fce246d2c1"
      },
      "execution_count": null,
      "outputs": [
        {
          "output_type": "stream",
          "name": "stdout",
          "text": [
            "123\n"
          ]
        }
      ]
    },
    {
      "cell_type": "markdown",
      "source": [
        "**10) update()**\n",
        "\n",
        "Updates the dictionary with the specified key-value pairs"
      ],
      "metadata": {
        "id": "K112EKE8c-k9"
      }
    },
    {
      "cell_type": "code",
      "source": [
        "var2.update({\"student_health_status\": \"normal\"})\n",
        "print(var2)"
      ],
      "metadata": {
        "colab": {
          "base_uri": "https://localhost:8080/"
        },
        "id": "nz-HvTc2dHlK",
        "outputId": "50448700-d805-40b2-e871-1fbdf938c347"
      },
      "execution_count": null,
      "outputs": [
        {
          "output_type": "stream",
          "name": "stdout",
          "text": [
            "{'Student_name': 'Varun', 'Student_id': 123, 'student_address': 'xxyz', 'student_mark': 90, 'student_health_status': 'normal'}\n"
          ]
        }
      ]
    },
    {
      "cell_type": "markdown",
      "source": [
        "**11) values()**\n",
        "\n",
        "Return the *values*"
      ],
      "metadata": {
        "id": "CROFNNi9dcdf"
      }
    },
    {
      "cell_type": "code",
      "source": [
        "val1=var2.values()\n",
        "print(val1)"
      ],
      "metadata": {
        "colab": {
          "base_uri": "https://localhost:8080/"
        },
        "id": "gpQ-965sdyMd",
        "outputId": "2cc1197d-c1a9-4acd-dc58-218d112aa7bd"
      },
      "execution_count": null,
      "outputs": [
        {
          "output_type": "stream",
          "name": "stdout",
          "text": [
            "dict_values(['Varun', 123, 'xxyz', 90, 'normal'])\n"
          ]
        }
      ]
    }
  ]
}