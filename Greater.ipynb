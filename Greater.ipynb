{
  "nbformat": 4,
  "nbformat_minor": 0,
  "metadata": {
    "colab": {
      "name": "Greater",
      "provenance": [],
      "authorship_tag": "ABX9TyPSgFqiU2vL0vOoFd87UJGA",
      "include_colab_link": true
    },
    "kernelspec": {
      "name": "python3",
      "display_name": "Python 3"
    },
    "language_info": {
      "name": "python"
    }
  },
  "cells": [
    {
      "cell_type": "markdown",
      "metadata": {
        "id": "view-in-github",
        "colab_type": "text"
      },
      "source": [
        "<a href=\"https://colab.research.google.com/github/SusaiIgnesh/Readme/blob/main/Greater.ipynb\" target=\"_parent\"><img src=\"https://colab.research.google.com/assets/colab-badge.svg\" alt=\"Open In Colab\"/></a>"
      ]
    },
    {
      "cell_type": "code",
      "execution_count": null,
      "metadata": {
        "id": "Et_mGRnM1se2"
      },
      "outputs": [],
      "source": [
        "def find_greater():\n",
        "  A1 = input('Enter a number: ')\n",
        "  A2 = input('Enter another number: ')\n",
        "  if A1 > A2:\n",
        "    print('The larger number is '+A1)\n",
        "  else:\n",
        "    print('The larger number is '+A2)\n",
        "\n",
        "find_greater()"
      ]
    },
    {
      "cell_type": "code",
      "source": [
        ""
      ],
      "metadata": {
        "id": "JBuCkyMz11Rk"
      },
      "execution_count": null,
      "outputs": []
    }
  ]
}