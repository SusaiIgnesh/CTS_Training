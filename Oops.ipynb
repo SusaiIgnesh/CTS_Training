{
  "nbformat": 4,
  "nbformat_minor": 0,
  "metadata": {
    "colab": {
      "provenance": [],
      "collapsed_sections": [],
      "authorship_tag": "ABX9TyNs+yond44UbB/7vKYhMAtm",
      "include_colab_link": true
    },
    "kernelspec": {
      "name": "python3",
      "display_name": "Python 3"
    },
    "language_info": {
      "name": "python"
    }
  },
  "cells": [
    {
      "cell_type": "markdown",
      "metadata": {
        "id": "view-in-github",
        "colab_type": "text"
      },
      "source": [
        "<a href=\"https://colab.research.google.com/github/SusaiIgnesh/CTS_Training/blob/main/Oops.ipynb\" target=\"_parent\"><img src=\"https://colab.research.google.com/assets/colab-badge.svg\" alt=\"Open In Colab\"/></a>"
      ]
    },
    {
      "cell_type": "code",
      "execution_count": null,
      "metadata": {
        "colab": {
          "base_uri": "https://localhost:8080/"
        },
        "id": "irXIN6B_z3Ob",
        "outputId": "10d9b338-3a85-42da-a37a-56fcf6b8ea88"
      },
      "outputs": [
        {
          "output_type": "stream",
          "name": "stdout",
          "text": [
            "first name          : john\n",
            "last name           : kumar\n",
            "gender of respondent: male\n",
            "Student_id         :   11\n",
            "student_performance:   good\n",
            "student mark       : 80\n"
          ]
        }
      ],
      "source": [
        "#parent class\n",
        "class person(object):\n",
        "  def __init__(self,first_name,last_name,gender):\n",
        "    self.first_name=first_name\n",
        "    self.last_name=last_name\n",
        "    self.gender=gender\n",
        "  def person_details(self):\n",
        "    print(\"first name          :\",      self.first_name)\n",
        "    print(\"last name           :\",   self.last_name)\n",
        "    print(\"gender of respondent:\",self.gender)\n",
        "\n",
        "\n",
        "#first child class\n",
        "\n",
        "class student(person):\n",
        "  def __init__(self,first_name,last_name,gender,student_id,student_performance,mark):\n",
        "    self.student_id=student_id\n",
        "    self.student_performance=student_performance\n",
        "    self.mark=mark\n",
        "\n",
        "    person.__init__(self,first_name,last_name,gender) \n",
        "\n",
        "  def show(self):\n",
        "    print(\"Student_id         :  \",self.student_id)\n",
        "    print(\"student_performance:  \",self.student_performance)\n",
        "    print(\"student mark       :\",self.mark)\n",
        "\n",
        "\n",
        "s1=student(\"john\",\"kumar\",\"male\",11,\"good\",80)\n",
        "s1.person_details()\n",
        "s1.show()\n",
        "\n"
      ]
    },
    {
      "cell_type": "code",
      "source": [
        "#second child class\n",
        "\n",
        "class teacher(person):\n",
        "  def __init__(self,first_name,last_name,gender,teacher_id,specialization):\n",
        "    self.teacher_id=teacher_id\n",
        "    self.specialization=specialization\n",
        "\n",
        "    person.__init__(self,first_name,last_name,gender)\n",
        "\n",
        "    \n",
        "  def flow(self):\n",
        "      print(\"Teacher_id                :  \",self.teacher_id)\n",
        "      print(\"specialization of the teac:\",self.specialization)\n",
        "\n",
        "s2=teacher(\"varun\",\"aditya\",\"male\",12,\"math\")\n",
        "s2.person_details()\n",
        "s2.flow()\n",
        "\n",
        "\n"
      ],
      "metadata": {
        "colab": {
          "base_uri": "https://localhost:8080/"
        },
        "id": "XZcF6WSC7ZC4",
        "outputId": "8ee8baaa-8751-47ae-d8b3-a1ae404c7837"
      },
      "execution_count": null,
      "outputs": [
        {
          "output_type": "stream",
          "name": "stdout",
          "text": [
            "first name          : varun\n",
            "last name           : aditya\n",
            "gender of respondent: male\n",
            "Teacher_id                :   12\n",
            "specialization of the teac: math\n"
          ]
        }
      ]
    },
    {
      "cell_type": "code",
      "source": [
        "#Third child class\n",
        "\n",
        "class employee(person):\n",
        "  def __init__(self,first_name,last_name,gender,organization,employ_id,designation):\n",
        "    self.organization=organization\n",
        "    self.employ_id=employ_id\n",
        "    self.designation=designation\n",
        "\n",
        "    person.__init__(self,first_name,last_name,gender)\n",
        "\n",
        "  def details(self):\n",
        "    print(\"Organization Name          :\",self.organization)\n",
        "    print(\"Empoly_id                  :\",self.employ_id)\n",
        "    print(\"Designation of the employee:\",self.designation)\n",
        "\n",
        "s3=employee(\"Rukk\",\"shanth\",\"Male\",\"CTS\",123,\"data scientist\")\n",
        "s3.person_details()\n",
        "s3.details()\n",
        "  \n",
        "    "
      ],
      "metadata": {
        "colab": {
          "base_uri": "https://localhost:8080/"
        },
        "id": "Qgjfaq_Z-weX",
        "outputId": "102edaa8-80fd-4fc0-ce96-b0e524f791b5"
      },
      "execution_count": null,
      "outputs": [
        {
          "output_type": "stream",
          "name": "stdout",
          "text": [
            "first name          : Rukk\n",
            "last name           : shanth\n",
            "gender of respondent: Male\n",
            "Organization Name          : CTS\n",
            "Empoly_id                  : 123\n",
            "Designation of the employee: data scientist\n"
          ]
        }
      ]
    }
  ]
}