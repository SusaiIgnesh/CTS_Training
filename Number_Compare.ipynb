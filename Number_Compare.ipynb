{
  "nbformat": 4,
  "nbformat_minor": 0,
  "metadata": {
    "colab": {
      "name": "Number_Compare",
      "provenance": [],
      "authorship_tag": "ABX9TyPTT0NYqjacqO3ZwT/bbk8P",
      "include_colab_link": true
    },
    "kernelspec": {
      "name": "python3",
      "display_name": "Python 3"
    },
    "language_info": {
      "name": "python"
    }
  },
  "cells": [
    {
      "cell_type": "markdown",
      "metadata": {
        "id": "view-in-github",
        "colab_type": "text"
      },
      "source": [
        "<a href=\"https://colab.research.google.com/github/SusaiIgnesh/Readme/blob/main/Number_Compare.ipynb\" target=\"_parent\"><img src=\"https://colab.research.google.com/assets/colab-badge.svg\" alt=\"Open In Colab\"/></a>"
      ]
    },
    {
      "cell_type": "code",
      "execution_count": 1,
      "metadata": {
        "colab": {
          "base_uri": "https://localhost:8080/"
        },
        "id": "hhWi9bFf0k20",
        "outputId": "0680c65e-1d91-4038-e666-f42b1fea376f"
      },
      "outputs": [
        {
          "output_type": "stream",
          "name": "stdout",
          "text": [
            "Writing greaternum_script.py\n"
          ]
        }
      ],
      "source": [
        "%%writefile greaternum_script.py\n",
        "\n",
        "def find_greater():\n",
        "  A1 = input('Enter a number: ')\n",
        "  A2 = input('Enter another number: ')\n",
        "  if A1 > A2:\n",
        "    print('The larger number is '+A1)\n",
        "  else:\n",
        "    print('The larger number is '+A2)"
      ]
    },
    {
      "cell_type": "code",
      "source": [
        "%%writefile -a greaternum_script.py\n",
        "\n",
        "find_greater()"
      ],
      "metadata": {
        "colab": {
          "base_uri": "https://localhost:8080/"
        },
        "id": "AH-QkGAZ00Jq",
        "outputId": "c9ddeb5a-0664-4f7d-b629-edd48bcf8b43"
      },
      "execution_count": 2,
      "outputs": [
        {
          "output_type": "stream",
          "name": "stdout",
          "text": [
            "Appending to greaternum_script.py\n"
          ]
        }
      ]
    },
    {
      "cell_type": "code",
      "source": [
        "%%writefile smallnum_script.py\n",
        "\n",
        "def find_smaller():\n",
        "  M1 = input('Enter a number: ')\n",
        "  M2 = input('Enter another number: ')\n",
        "  if M1 < M2:\n",
        "    print('The smaller number is '+M1)\n",
        "  else:\n",
        "    print('The smaller number is '+M2)"
      ],
      "metadata": {
        "colab": {
          "base_uri": "https://localhost:8080/"
        },
        "id": "cpVzLt5D1BDm",
        "outputId": "9e46dcfa-ea69-4aa9-84c8-b930d053f926"
      },
      "execution_count": 3,
      "outputs": [
        {
          "output_type": "stream",
          "name": "stdout",
          "text": [
            "Writing smallnum_script.py\n"
          ]
        }
      ]
    },
    {
      "cell_type": "code",
      "source": [
        "%%writefile -a smallnum_script.py\n",
        "\n",
        "find_smaller()"
      ],
      "metadata": {
        "colab": {
          "base_uri": "https://localhost:8080/"
        },
        "id": "0yNp5olt1NhE",
        "outputId": "dbcf4ed0-66c6-4ac0-b472-71090f9a8d57"
      },
      "execution_count": 4,
      "outputs": [
        {
          "output_type": "stream",
          "name": "stdout",
          "text": [
            "Appending to smallnum_script.py\n"
          ]
        }
      ]
    },
    {
      "cell_type": "code",
      "source": [
        ""
      ],
      "metadata": {
        "id": "kKfWnITn1VtK"
      },
      "execution_count": null,
      "outputs": []
    }
  ]
}