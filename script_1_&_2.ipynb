{
  "nbformat": 4,
  "nbformat_minor": 0,
  "metadata": {
    "colab": {
      "name": "script_1 & 2",
      "provenance": [],
      "authorship_tag": "ABX9TyMTdtzI/YMLmT+Lo2Z9c/lL",
      "include_colab_link": true
    },
    "kernelspec": {
      "name": "python3",
      "display_name": "Python 3"
    },
    "language_info": {
      "name": "python"
    }
  },
  "cells": [
    {
      "cell_type": "markdown",
      "metadata": {
        "id": "view-in-github",
        "colab_type": "text"
      },
      "source": [
        "<a href=\"https://colab.research.google.com/github/SusaiIgnesh/Readme/blob/main/script_1_%26_2.ipynb\" target=\"_parent\"><img src=\"https://colab.research.google.com/assets/colab-badge.svg\" alt=\"Open In Colab\"/></a>"
      ]
    },
    {
      "cell_type": "code",
      "execution_count": 4,
      "metadata": {
        "colab": {
          "base_uri": "https://localhost:8080/"
        },
        "id": "kldah-dkD8eF",
        "outputId": "bdb05cb6-f2b5-4d8d-b83a-97d9590e0e4e"
      },
      "outputs": [
        {
          "output_type": "stream",
          "name": "stdout",
          "text": [
            "[2, 3, 5, 7]\n"
          ]
        }
      ],
      "source": [
        "#enter a number and print all prime numbers till that number\n",
        "n = 10\n",
        "prime_number = []\n",
        "\n",
        "for i in range(2, n + 1):\n",
        "\tfor j in range(2, int(i ** 0.5) + 1):\n",
        " \t\tif i%j == 0:\n",
        " \t\t\tbreak\n",
        "\telse:\n",
        "\t\tprime_number.append(i)\n",
        "\n",
        "print(prime_number)"
      ]
    },
    {
      "cell_type": "code",
      "source": [
        "#enter 2 numbers and print all prime numbers between them. \n",
        "lower_num=int(input(\"enter the lower range: \")) \n",
        "upper_num=int(input(\"enter the upper range: \")) \n",
        "\n",
        "for num in range(lower_num,upper_num +1): \n",
        "  if num>1: \n",
        "    for i in range(2,num): \n",
        "        if (num%i)==0: \n",
        "            break \n",
        "    else: \n",
        "      print(num)"
      ],
      "metadata": {
        "id": "UybhKBpGHjxh"
      },
      "execution_count": null,
      "outputs": []
    }
  ]
}