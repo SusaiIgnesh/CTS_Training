{
  "nbformat": 4,
  "nbformat_minor": 0,
  "metadata": {
    "colab": {
      "name": "Prime_num",
      "provenance": [],
      "authorship_tag": "ABX9TyN07/Ax6LFMkZaV7mU9wLjC",
      "include_colab_link": true
    },
    "kernelspec": {
      "name": "python3",
      "display_name": "Python 3"
    },
    "language_info": {
      "name": "python"
    }
  },
  "cells": [
    {
      "cell_type": "markdown",
      "metadata": {
        "id": "view-in-github",
        "colab_type": "text"
      },
      "source": [
        "<a href=\"https://colab.research.google.com/github/SusaiIgnesh/Readme/blob/main/Prime_num.ipynb\" target=\"_parent\"><img src=\"https://colab.research.google.com/assets/colab-badge.svg\" alt=\"Open In Colab\"/></a>"
      ]
    },
    {
      "cell_type": "code",
      "execution_count": 1,
      "metadata": {
        "colab": {
          "base_uri": "https://localhost:8080/"
        },
        "id": "GrpQuTvyzkj8",
        "outputId": "98bbe736-3f99-4cd7-b090-c7e53208bd91"
      },
      "outputs": [
        {
          "output_type": "stream",
          "name": "stdout",
          "text": [
            "Enter number: 11\n",
            "Number is prime\n"
          ]
        }
      ],
      "source": [
        "n1=int(input(\"Enter number: \")) \n",
        "k=0 \n",
        "for i in range(2,n1//2+1): \n",
        "    if(n1%i==0): \n",
        "        k=k+1 \n",
        "if(k<=0): \n",
        "    print(\"Number is prime\") \n",
        "else: \n",
        "    print(\"Not a Prime Number\") "
      ]
    },
    {
      "cell_type": "code",
      "source": [
        ""
      ],
      "metadata": {
        "id": "pUwWnDPD0xZ0"
      },
      "execution_count": null,
      "outputs": []
    }
  ]
}